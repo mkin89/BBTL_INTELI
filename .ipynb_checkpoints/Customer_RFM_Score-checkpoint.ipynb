{
 "cells": [
  {
   "cell_type": "markdown",
   "metadata": {},
   "source": [
    "## Baridi RFM Model\n",
    "\n",
    "### Model mechanics (The how?)\n",
    "RFM model analyses customer behavior using three dimensions\n",
    "  1. Recency (R): How recent customer has made a purchase\n",
    "  2. Frequency (F): How often customer makes a purchase/subscribe within a time period\n",
    "  3. Monetary (M): How much money a customer spends within a time period\n",
    "\n",
    "### Importance of the model (The why?)\n",
    "RFM model is an importat tool which can aid BaridiBaridi to underpin the behavior of her customers, which can be an intelligible way of serving groups of customer, improved customer satisfication and productivity by the CS team.\n",
    "\n",
    "We will also use the model to create another Customer LTV model (Customer Lifetime Value), to predict future behavior of the customers.\n",
    "\n",
    "### How this model is built\n",
    "\n",
    "Within the Baridi Baridi database, We've transactions table as a sources from which we can havest the necessary to construct the RFM - Model."
   ]
  },
  {
   "cell_type": "code",
   "execution_count": 1,
   "metadata": {},
   "outputs": [],
   "source": [
    "import pandas as pd\n",
    "from datetime import datetime"
   ]
  },
  {
   "cell_type": "code",
   "execution_count": 2,
   "metadata": {},
   "outputs": [
    {
     "name": "stderr",
     "output_type": "stream",
     "text": [
      "/tmp/ipykernel_210000/3772678999.py:1: DtypeWarning: Columns (4) have mixed types. Specify dtype option on import or set low_memory=False.\n",
      "  df = pd.read_csv('transactions_20240325.csv')\n"
     ]
    }
   ],
   "source": [
    "df = pd.read_csv('transactions_20240325.csv') # Transactions are extracted as of 2024-03-25"
   ]
  },
  {
   "cell_type": "code",
   "execution_count": null,
   "metadata": {},
   "outputs": [],
   "source": []
  }
 ],
 "metadata": {
  "kernelspec": {
   "display_name": "Python 3 (ipykernel)",
   "language": "python",
   "name": "python3"
  },
  "language_info": {
   "codemirror_mode": {
    "name": "ipython",
    "version": 3
   },
   "file_extension": ".py",
   "mimetype": "text/x-python",
   "name": "python",
   "nbconvert_exporter": "python",
   "pygments_lexer": "ipython3",
   "version": "3.10.14"
  }
 },
 "nbformat": 4,
 "nbformat_minor": 4
}

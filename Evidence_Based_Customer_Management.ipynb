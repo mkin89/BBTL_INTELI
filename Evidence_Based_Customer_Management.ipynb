{
 "cells": [
  {
   "cell_type": "code",
   "execution_count": 34,
   "id": "8ca4c709-cae7-4e63-8737-c166dc385b80",
   "metadata": {},
   "outputs": [],
   "source": [
    "import pandas as pd\n",
    "from sklearn.preprocessing import StandardScaler\n",
    "from sklearn.cluster import KMeans\n",
    "from sklearn.model_selection import train_test_split\n",
    "from sklearn.ensemble import RandomForestClassifier\n",
    "from sklearn.metrics import classification_report, confusion_matrix"
   ]
  },
  {
   "cell_type": "code",
   "execution_count": 35,
   "id": "928b0b99-4e06-4c90-8045-a9ccefd69b69",
   "metadata": {},
   "outputs": [
    {
     "name": "stderr",
     "output_type": "stream",
     "text": [
      "/tmp/ipykernel_29022/1847196233.py:2: DtypeWarning: Columns (4) have mixed types. Specify dtype option on import or set low_memory=False.\n",
      "  txn_df = pd.read_csv('transactions_20240325.csv')\n"
     ]
    }
   ],
   "source": [
    "# load data from CSV files\n",
    "txn_df = pd.read_csv('transactions_20240325.csv')"
   ]
  },
  {
   "cell_type": "code",
   "execution_count": 36,
   "id": "92af0ca5-b5e0-4425-a3cd-182e3e46b027",
   "metadata": {},
   "outputs": [
    {
     "data": {
      "text/html": [
       "<div>\n",
       "<style scoped>\n",
       "    .dataframe tbody tr th:only-of-type {\n",
       "        vertical-align: middle;\n",
       "    }\n",
       "\n",
       "    .dataframe tbody tr th {\n",
       "        vertical-align: top;\n",
       "    }\n",
       "\n",
       "    .dataframe thead th {\n",
       "        text-align: right;\n",
       "    }\n",
       "</style>\n",
       "<table border=\"1\" class=\"dataframe\">\n",
       "  <thead>\n",
       "    <tr style=\"text-align: right;\">\n",
       "      <th></th>\n",
       "      <th>id</th>\n",
       "      <th>trx_id</th>\n",
       "      <th>trx_type</th>\n",
       "      <th>customer_id</th>\n",
       "      <th>device_serial</th>\n",
       "      <th>device_model</th>\n",
       "      <th>trx_date</th>\n",
       "      <th>trx_reference</th>\n",
       "      <th>credit_amount</th>\n",
       "      <th>debit_amount</th>\n",
       "      <th>balance_amount</th>\n",
       "      <th>status</th>\n",
       "      <th>status_message</th>\n",
       "    </tr>\n",
       "  </thead>\n",
       "  <tbody>\n",
       "    <tr>\n",
       "      <th>0</th>\n",
       "      <td>52824</td>\n",
       "      <td>baed3442-519d-11ec-a479-022ca9a9afd4</td>\n",
       "      <td>ADD_MONEY</td>\n",
       "      <td>169</td>\n",
       "      <td>NaN</td>\n",
       "      <td>NaN</td>\n",
       "      <td>2021-11-30 05:24:00</td>\n",
       "      <td>4953063803</td>\n",
       "      <td>200</td>\n",
       "      <td>0</td>\n",
       "      <td>2000</td>\n",
       "      <td>PROCESSED</td>\n",
       "      <td>OK</td>\n",
       "    </tr>\n",
       "    <tr>\n",
       "      <th>1</th>\n",
       "      <td>52829</td>\n",
       "      <td>788ffd63-51a2-11ec-a479-022ca9a9afd4</td>\n",
       "      <td>DEVICE_RECHARGE</td>\n",
       "      <td>143</td>\n",
       "      <td>0000316</td>\n",
       "      <td>GTKW35TV16WZ</td>\n",
       "      <td>2021-11-30 05:57:00</td>\n",
       "      <td>1day plan</td>\n",
       "      <td>0</td>\n",
       "      <td>2800</td>\n",
       "      <td>2400</td>\n",
       "      <td>PROCESSED</td>\n",
       "      <td>OK</td>\n",
       "    </tr>\n",
       "    <tr>\n",
       "      <th>2</th>\n",
       "      <td>52834</td>\n",
       "      <td>1ae760ec-51b5-11ec-a479-022ca9a9afd4</td>\n",
       "      <td>ADD_MONEY</td>\n",
       "      <td>126</td>\n",
       "      <td>NaN</td>\n",
       "      <td>NaN</td>\n",
       "      <td>2021-11-30 08:11:00</td>\n",
       "      <td>3284053450</td>\n",
       "      <td>200</td>\n",
       "      <td>0</td>\n",
       "      <td>300</td>\n",
       "      <td>PROCESSED</td>\n",
       "      <td>OK</td>\n",
       "    </tr>\n",
       "    <tr>\n",
       "      <th>3</th>\n",
       "      <td>52839</td>\n",
       "      <td>97516416-51b6-11ec-a479-022ca9a9afd4</td>\n",
       "      <td>ADD_MONEY</td>\n",
       "      <td>145</td>\n",
       "      <td>NaN</td>\n",
       "      <td>NaN</td>\n",
       "      <td>2021-11-30 08:22:00</td>\n",
       "      <td>2609216024</td>\n",
       "      <td>3000</td>\n",
       "      <td>0</td>\n",
       "      <td>4200</td>\n",
       "      <td>PROCESSED</td>\n",
       "      <td>OK</td>\n",
       "    </tr>\n",
       "    <tr>\n",
       "      <th>4</th>\n",
       "      <td>52843</td>\n",
       "      <td>feba84d0-51b8-11ec-a479-022ca9a9afd4</td>\n",
       "      <td>DEVICE_RECHARGE</td>\n",
       "      <td>23</td>\n",
       "      <td>0000120</td>\n",
       "      <td>GTKW50TV16VZ</td>\n",
       "      <td>2021-11-30 08:39:00</td>\n",
       "      <td>7days plan</td>\n",
       "      <td>0</td>\n",
       "      <td>14000</td>\n",
       "      <td>0</td>\n",
       "      <td>PROCESSED</td>\n",
       "      <td>OK</td>\n",
       "    </tr>\n",
       "  </tbody>\n",
       "</table>\n",
       "</div>"
      ],
      "text/plain": [
       "      id                                trx_id         trx_type  customer_id  \\\n",
       "0  52824  baed3442-519d-11ec-a479-022ca9a9afd4        ADD_MONEY          169   \n",
       "1  52829  788ffd63-51a2-11ec-a479-022ca9a9afd4  DEVICE_RECHARGE          143   \n",
       "2  52834  1ae760ec-51b5-11ec-a479-022ca9a9afd4        ADD_MONEY          126   \n",
       "3  52839  97516416-51b6-11ec-a479-022ca9a9afd4        ADD_MONEY          145   \n",
       "4  52843  feba84d0-51b8-11ec-a479-022ca9a9afd4  DEVICE_RECHARGE           23   \n",
       "\n",
       "  device_serial  device_model             trx_date trx_reference  \\\n",
       "0           NaN           NaN  2021-11-30 05:24:00    4953063803   \n",
       "1       0000316  GTKW35TV16WZ  2021-11-30 05:57:00     1day plan   \n",
       "2           NaN           NaN  2021-11-30 08:11:00    3284053450   \n",
       "3           NaN           NaN  2021-11-30 08:22:00    2609216024   \n",
       "4       0000120  GTKW50TV16VZ  2021-11-30 08:39:00    7days plan   \n",
       "\n",
       "   credit_amount  debit_amount  balance_amount     status status_message  \n",
       "0            200             0            2000  PROCESSED             OK  \n",
       "1              0          2800            2400  PROCESSED             OK  \n",
       "2            200             0             300  PROCESSED             OK  \n",
       "3           3000             0            4200  PROCESSED             OK  \n",
       "4              0         14000               0  PROCESSED             OK  "
      ]
     },
     "execution_count": 36,
     "metadata": {},
     "output_type": "execute_result"
    }
   ],
   "source": [
    "txn_df.head()"
   ]
  },
  {
   "cell_type": "code",
   "execution_count": 37,
   "id": "ead7bc77-8bfb-44e6-9c2e-52bdd2e43dd0",
   "metadata": {},
   "outputs": [],
   "source": [
    "# cleaning transactions data.\n",
    "#\n",
    "# Remove Txn IDs since they do not contain any information\n",
    "# Remove credit amount since will be interested in recharge transactions (actual purchases).\n",
    "# Remove `status_message` since it is a duplicate of `status` column\n",
    "# Convert dates from str to datetime objects\n",
    "txn_df = txn_df[txn_df['trx_type'] == 'DEVICE_RECHARGE']\n",
    "txn_df.drop(columns=['trx_id', 'id', 'credit_amount', 'status_message'], inplace=True)\n",
    "txn_df['trx_date'] = pd.to_datetime(txn_df['trx_date'], format='ISO8601')"
   ]
  },
  {
   "cell_type": "code",
   "execution_count": 38,
   "id": "1037d057-fc5e-4082-b5d0-19bca1752d1c",
   "metadata": {},
   "outputs": [],
   "source": [
    "txn_df = txn_df[txn_df['status'] == 'PROCESSED']\n",
    "txn_df.drop(columns=['status'], inplace=True)"
   ]
  },
  {
   "cell_type": "code",
   "execution_count": 46,
   "id": "1d8bb148-2442-420d-bfee-4204d95279ea",
   "metadata": {},
   "outputs": [
    {
     "data": {
      "text/plain": [
       "(66806, 8)"
      ]
     },
     "execution_count": 46,
     "metadata": {},
     "output_type": "execute_result"
    }
   ],
   "source": [
    "txn_df.shape"
   ]
  },
  {
   "cell_type": "code",
   "execution_count": 66,
   "id": "697c0947-d09a-4606-9860-c9486b936061",
   "metadata": {},
   "outputs": [
    {
     "data": {
      "text/html": [
       "<div>\n",
       "<style scoped>\n",
       "    .dataframe tbody tr th:only-of-type {\n",
       "        vertical-align: middle;\n",
       "    }\n",
       "\n",
       "    .dataframe tbody tr th {\n",
       "        vertical-align: top;\n",
       "    }\n",
       "\n",
       "    .dataframe thead th {\n",
       "        text-align: right;\n",
       "    }\n",
       "</style>\n",
       "<table border=\"1\" class=\"dataframe\">\n",
       "  <thead>\n",
       "    <tr style=\"text-align: right;\">\n",
       "      <th></th>\n",
       "      <th>trx_type</th>\n",
       "      <th>customer_id</th>\n",
       "      <th>device_serial</th>\n",
       "      <th>device_model</th>\n",
       "      <th>trx_date</th>\n",
       "      <th>trx_reference</th>\n",
       "      <th>debit_amount</th>\n",
       "      <th>balance_amount</th>\n",
       "      <th>is_long_term_plan</th>\n",
       "    </tr>\n",
       "  </thead>\n",
       "  <tbody>\n",
       "    <tr>\n",
       "      <th>1</th>\n",
       "      <td>DEVICE_RECHARGE</td>\n",
       "      <td>143</td>\n",
       "      <td>0000316</td>\n",
       "      <td>GTKW35TV16WZ</td>\n",
       "      <td>2021-11-30 05:57:00</td>\n",
       "      <td>1d</td>\n",
       "      <td>2800</td>\n",
       "      <td>2400</td>\n",
       "      <td>False</td>\n",
       "    </tr>\n",
       "    <tr>\n",
       "      <th>4</th>\n",
       "      <td>DEVICE_RECHARGE</td>\n",
       "      <td>23</td>\n",
       "      <td>0000120</td>\n",
       "      <td>GTKW50TV16VZ</td>\n",
       "      <td>2021-11-30 08:39:00</td>\n",
       "      <td>7d</td>\n",
       "      <td>14000</td>\n",
       "      <td>0</td>\n",
       "      <td>False</td>\n",
       "    </tr>\n",
       "    <tr>\n",
       "      <th>11</th>\n",
       "      <td>DEVICE_RECHARGE</td>\n",
       "      <td>158</td>\n",
       "      <td>0000174</td>\n",
       "      <td>GTKW60TV16UZ</td>\n",
       "      <td>2021-11-30 12:22:00</td>\n",
       "      <td>7d</td>\n",
       "      <td>16000</td>\n",
       "      <td>2300</td>\n",
       "      <td>False</td>\n",
       "    </tr>\n",
       "    <tr>\n",
       "      <th>19</th>\n",
       "      <td>DEVICE_RECHARGE</td>\n",
       "      <td>143</td>\n",
       "      <td>0000316</td>\n",
       "      <td>GTKW35TV16WZ</td>\n",
       "      <td>2021-12-02 21:30:00</td>\n",
       "      <td>1d</td>\n",
       "      <td>2800</td>\n",
       "      <td>3800</td>\n",
       "      <td>False</td>\n",
       "    </tr>\n",
       "    <tr>\n",
       "      <th>27</th>\n",
       "      <td>DEVICE_RECHARGE</td>\n",
       "      <td>28</td>\n",
       "      <td>0000102</td>\n",
       "      <td>GTKW50TV16VZ</td>\n",
       "      <td>2021-12-05 10:43:00</td>\n",
       "      <td>1d</td>\n",
       "      <td>3400</td>\n",
       "      <td>6800</td>\n",
       "      <td>False</td>\n",
       "    </tr>\n",
       "  </tbody>\n",
       "</table>\n",
       "</div>"
      ],
      "text/plain": [
       "           trx_type  customer_id device_serial  device_model  \\\n",
       "1   DEVICE_RECHARGE          143       0000316  GTKW35TV16WZ   \n",
       "4   DEVICE_RECHARGE           23       0000120  GTKW50TV16VZ   \n",
       "11  DEVICE_RECHARGE          158       0000174  GTKW60TV16UZ   \n",
       "19  DEVICE_RECHARGE          143       0000316  GTKW35TV16WZ   \n",
       "27  DEVICE_RECHARGE           28       0000102  GTKW50TV16VZ   \n",
       "\n",
       "              trx_date trx_reference  debit_amount  balance_amount  \\\n",
       "1  2021-11-30 05:57:00            1d          2800            2400   \n",
       "4  2021-11-30 08:39:00            7d         14000               0   \n",
       "11 2021-11-30 12:22:00            7d         16000            2300   \n",
       "19 2021-12-02 21:30:00            1d          2800            3800   \n",
       "27 2021-12-05 10:43:00            1d          3400            6800   \n",
       "\n",
       "    is_long_term_plan  \n",
       "1               False  \n",
       "4               False  \n",
       "11              False  \n",
       "19              False  \n",
       "27              False  "
      ]
     },
     "execution_count": 66,
     "metadata": {},
     "output_type": "execute_result"
    }
   ],
   "source": [
    "txn_df.head()"
   ]
  },
  {
   "cell_type": "markdown",
   "id": "c91b096f-fc27-468b-b748-c9c864c97d48",
   "metadata": {},
   "source": [
    "### Frequency of transactions per customer\n",
    "\n",
    "It is necessary to consider tenature in order to obtain necessecity for individual customers."
   ]
  },
  {
   "cell_type": "code",
   "execution_count": 41,
   "id": "42803d34-9b4f-4b8f-8fa3-84afa001d050",
   "metadata": {},
   "outputs": [],
   "source": [
    "txns_per_customer = txn_df.groupby('customer_id').size().reset_index()"
   ]
  },
  {
   "cell_type": "markdown",
   "id": "2485f33b-1342-4adb-9d18-1abed28e2f0a",
   "metadata": {},
   "source": [
    "### Use `trx_reference` for categorizing plans\n",
    "\n",
    "There might might be mispells in this column. Let us check how many categories do we have"
   ]
  },
  {
   "cell_type": "code",
   "execution_count": 63,
   "id": "1f1c9aac-790c-4c10-8c0b-63cde26e7412",
   "metadata": {},
   "outputs": [
    {
     "data": {
      "text/plain": [
       "array(['1d', '7d', '30d'], dtype=object)"
      ]
     },
     "execution_count": 63,
     "metadata": {},
     "output_type": "execute_result"
    }
   ],
   "source": [
    "txn_df['trx_reference'].unique()"
   ]
  },
  {
   "cell_type": "code",
   "execution_count": 44,
   "id": "983bc9c5-b65d-4590-8e17-e59c83eb5b14",
   "metadata": {},
   "outputs": [],
   "source": [
    "# There a high possibility that more than 30 days plan indicates instalment customers.\n",
    "# to be on a safer side, we're going to ignore those items"
   ]
  },
  {
   "cell_type": "code",
   "execution_count": 45,
   "id": "bd0609aa-d921-48a4-a955-1e5e95d91009",
   "metadata": {},
   "outputs": [],
   "source": [
    "txn_df = txn_df[~txn_df['trx_reference'].isin(['1 Year', '0 Year', '2 years'])]"
   ]
  },
  {
   "cell_type": "code",
   "execution_count": 62,
   "id": "3262df72-6c52-4358-b772-e52cee5636b6",
   "metadata": {},
   "outputs": [],
   "source": [
    "# We also need to rename the plans accordingly in order to improve sanity of our dataset\n",
    "txn_df['trx_reference'].replace({\n",
    "    \"1day plan\": \"1d\",\n",
    "    \"7days plan\": \"7d\",\n",
    "    \"30days plan\": \"30d\",\n",
    "    \"1 Day plan\": \"1d\",\n",
    "    \"30 Days plan\": \"30d\",\n",
    "    \"7 Days plan\": \"7d\",\n",
    "    \"7 Days\\n\": \"7d\",\n",
    "    \"7 Days plan\\n\": \"7d\",\n",
    "    \"30 Days plan\\n\": \"30d\"\n",
    "}, inplace=True);"
   ]
  },
  {
   "cell_type": "code",
   "execution_count": 65,
   "id": "3c73b200-facb-440c-9879-d02ddc2a425d",
   "metadata": {},
   "outputs": [],
   "source": [
    "txn_df['is_long_term_plan'] = txn_df['trx_reference'].apply(lambda x: x == '30d')"
   ]
  },
  {
   "cell_type": "code",
   "execution_count": 67,
   "id": "f3ae19b8-33b4-4a01-bf16-551b5f9bd34f",
   "metadata": {},
   "outputs": [],
   "source": [
    "long_term_plans_per_customer = txn_df.groupby('customer_id')['is_long_term_plan'].sum().reset_index()"
   ]
  },
  {
   "cell_type": "markdown",
   "id": "44a80b12-de64-4724-b668-9aa647044d0f",
   "metadata": {},
   "source": [
    "#### Feature engineering for financial stability\n",
    "Calcualte average transaction amount per customer"
   ]
  },
  {
   "cell_type": "code",
   "execution_count": 69,
   "id": "898b4741-425b-4fdc-870d-6af77c151687",
   "metadata": {},
   "outputs": [],
   "source": [
    "avg_txn = txn_df.groupby('customer_id').agg({'debit_amount': 'mean'})\n",
    "avg_txn.rename(columns={'debit_amount': 'average_credit_amount'}, inplace=True)"
   ]
  },
  {
   "cell_type": "code",
   "execution_count": 73,
   "id": "d0148467-7748-41d0-ab65-fc367177a05e",
   "metadata": {},
   "outputs": [],
   "source": [
    "# Merge features into a single dataframe\n",
    "features_df = pd.merge(txns_per_customer, long_term_plans_per_customer, on='customer_id')"
   ]
  },
  {
   "cell_type": "code",
   "execution_count": 77,
   "id": "0f54e6b8-7a9a-49f3-bd72-92e4285e8caa",
   "metadata": {},
   "outputs": [],
   "source": [
    "features_df = pd.merge(features_df, avg_txn, on='customer_id')"
   ]
  },
  {
   "cell_type": "code",
   "execution_count": 82,
   "id": "8a8f56e5-6bd9-4c94-bc56-694495c9db75",
   "metadata": {},
   "outputs": [],
   "source": [
    "features_df.rename(columns={0: 'txn_freq', 'is_long_term_plan': '30d_plans', 'average_credit_amount': 'avg_recharges'}, inplace=True)"
   ]
  },
  {
   "cell_type": "code",
   "execution_count": 86,
   "id": "cabecbf1-468a-47f2-bcf6-3afb2f114550",
   "metadata": {},
   "outputs": [
    {
     "data": {
      "text/html": [
       "<div>\n",
       "<style scoped>\n",
       "    .dataframe tbody tr th:only-of-type {\n",
       "        vertical-align: middle;\n",
       "    }\n",
       "\n",
       "    .dataframe tbody tr th {\n",
       "        vertical-align: top;\n",
       "    }\n",
       "\n",
       "    .dataframe thead th {\n",
       "        text-align: right;\n",
       "    }\n",
       "</style>\n",
       "<table border=\"1\" class=\"dataframe\">\n",
       "  <thead>\n",
       "    <tr style=\"text-align: right;\">\n",
       "      <th></th>\n",
       "      <th>customer_id</th>\n",
       "      <th>txn_freq</th>\n",
       "      <th>30d_plans</th>\n",
       "      <th>avg_recharges</th>\n",
       "    </tr>\n",
       "  </thead>\n",
       "  <tbody>\n",
       "    <tr>\n",
       "      <th>0</th>\n",
       "      <td>22</td>\n",
       "      <td>-0.326757</td>\n",
       "      <td>-0.551904</td>\n",
       "      <td>-1.061997</td>\n",
       "    </tr>\n",
       "    <tr>\n",
       "      <th>1</th>\n",
       "      <td>23</td>\n",
       "      <td>3.801635</td>\n",
       "      <td>-0.497846</td>\n",
       "      <td>-1.064850</td>\n",
       "    </tr>\n",
       "    <tr>\n",
       "      <th>2</th>\n",
       "      <td>25</td>\n",
       "      <td>0.203415</td>\n",
       "      <td>0.042734</td>\n",
       "      <td>-0.643168</td>\n",
       "    </tr>\n",
       "    <tr>\n",
       "      <th>3</th>\n",
       "      <td>27</td>\n",
       "      <td>0.142576</td>\n",
       "      <td>-0.551904</td>\n",
       "      <td>-1.112921</td>\n",
       "    </tr>\n",
       "    <tr>\n",
       "      <th>4</th>\n",
       "      <td>28</td>\n",
       "      <td>5.748499</td>\n",
       "      <td>-0.443788</td>\n",
       "      <td>-1.243908</td>\n",
       "    </tr>\n",
       "    <tr>\n",
       "      <th>...</th>\n",
       "      <td>...</td>\n",
       "      <td>...</td>\n",
       "      <td>...</td>\n",
       "      <td>...</td>\n",
       "    </tr>\n",
       "    <tr>\n",
       "      <th>1155</th>\n",
       "      <td>1609</td>\n",
       "      <td>-0.491893</td>\n",
       "      <td>-0.551904</td>\n",
       "      <td>-1.229504</td>\n",
       "    </tr>\n",
       "    <tr>\n",
       "      <th>1156</th>\n",
       "      <td>1619</td>\n",
       "      <td>-0.483202</td>\n",
       "      <td>-0.497846</td>\n",
       "      <td>-0.060787</td>\n",
       "    </tr>\n",
       "    <tr>\n",
       "      <th>1157</th>\n",
       "      <td>1621</td>\n",
       "      <td>-0.483202</td>\n",
       "      <td>-0.497846</td>\n",
       "      <td>0.524940</td>\n",
       "    </tr>\n",
       "    <tr>\n",
       "      <th>1158</th>\n",
       "      <td>1626</td>\n",
       "      <td>-0.491893</td>\n",
       "      <td>-0.551904</td>\n",
       "      <td>-1.229504</td>\n",
       "    </tr>\n",
       "    <tr>\n",
       "      <th>1159</th>\n",
       "      <td>1630</td>\n",
       "      <td>-0.483202</td>\n",
       "      <td>-0.497846</td>\n",
       "      <td>0.524940</td>\n",
       "    </tr>\n",
       "  </tbody>\n",
       "</table>\n",
       "<p>1160 rows × 4 columns</p>\n",
       "</div>"
      ],
      "text/plain": [
       "      customer_id  txn_freq  30d_plans  avg_recharges\n",
       "0              22 -0.326757  -0.551904      -1.061997\n",
       "1              23  3.801635  -0.497846      -1.064850\n",
       "2              25  0.203415   0.042734      -0.643168\n",
       "3              27  0.142576  -0.551904      -1.112921\n",
       "4              28  5.748499  -0.443788      -1.243908\n",
       "...           ...       ...        ...            ...\n",
       "1155         1609 -0.491893  -0.551904      -1.229504\n",
       "1156         1619 -0.483202  -0.497846      -0.060787\n",
       "1157         1621 -0.483202  -0.497846       0.524940\n",
       "1158         1626 -0.491893  -0.551904      -1.229504\n",
       "1159         1630 -0.483202  -0.497846       0.524940\n",
       "\n",
       "[1160 rows x 4 columns]"
      ]
     },
     "execution_count": 86,
     "metadata": {},
     "output_type": "execute_result"
    }
   ],
   "source": [
    "features_df"
   ]
  },
  {
   "cell_type": "markdown",
   "id": "02481602-96e3-4d82-b54e-68fb107c12f9",
   "metadata": {},
   "source": [
    "#### Scaling features"
   ]
  },
  {
   "cell_type": "code",
   "execution_count": 84,
   "id": "8cc9fb10-26ea-4885-840c-2703255179dd",
   "metadata": {},
   "outputs": [],
   "source": [
    "scaler = StandardScaler()"
   ]
  },
  {
   "cell_type": "code",
   "execution_count": 85,
   "id": "c77dd9d8-85f0-451d-bbb5-eef4bae88ae0",
   "metadata": {},
   "outputs": [],
   "source": [
    "features_df[['txn_freq', '30d_plans', 'avg_recharges']] = scaler.fit_transform(features_df[['txn_freq', '30d_plans', 'avg_recharges']])"
   ]
  },
  {
   "cell_type": "markdown",
   "id": "596b4bfe-4d91-4644-bc88-bb8ab446285b",
   "metadata": {},
   "source": [
    "#### Modeling Necessity with KMeans Clustering"
   ]
  },
  {
   "cell_type": "code",
   "execution_count": 87,
   "id": "67e3ce59-31f3-4284-b562-c794444df742",
   "metadata": {},
   "outputs": [],
   "source": [
    "kmeans = KMeans(n_clusters=3)"
   ]
  },
  {
   "cell_type": "code",
   "execution_count": 88,
   "id": "ade09886-5000-4925-a7f8-e0c4ac9a47e1",
   "metadata": {},
   "outputs": [
    {
     "name": "stderr",
     "output_type": "stream",
     "text": [
      "/home/moses/miniforge3/lib/python3.10/site-packages/sklearn/cluster/_kmeans.py:1412: FutureWarning: The default value of `n_init` will change from 10 to 'auto' in 1.4. Set the value of `n_init` explicitly to suppress the warning\n",
      "  super()._check_params_vs_input(X, default_n_init=10)\n"
     ]
    }
   ],
   "source": [
    "features_df['necessity_cluster'] = kmeans.fit_predict(features_df[['txn_freq', '30d_plans']])"
   ]
  },
  {
   "cell_type": "code",
   "execution_count": 89,
   "id": "58784b3d-4e6d-42a9-a851-192bf8122d7b",
   "metadata": {},
   "outputs": [
    {
     "data": {
      "text/html": [
       "<div>\n",
       "<style scoped>\n",
       "    .dataframe tbody tr th:only-of-type {\n",
       "        vertical-align: middle;\n",
       "    }\n",
       "\n",
       "    .dataframe tbody tr th {\n",
       "        vertical-align: top;\n",
       "    }\n",
       "\n",
       "    .dataframe thead th {\n",
       "        text-align: right;\n",
       "    }\n",
       "</style>\n",
       "<table border=\"1\" class=\"dataframe\">\n",
       "  <thead>\n",
       "    <tr style=\"text-align: right;\">\n",
       "      <th></th>\n",
       "      <th>customer_id</th>\n",
       "      <th>txn_freq</th>\n",
       "      <th>30d_plans</th>\n",
       "      <th>avg_recharges</th>\n",
       "      <th>necessity_cluster</th>\n",
       "    </tr>\n",
       "  </thead>\n",
       "  <tbody>\n",
       "    <tr>\n",
       "      <th>0</th>\n",
       "      <td>22</td>\n",
       "      <td>-0.326757</td>\n",
       "      <td>-0.551904</td>\n",
       "      <td>-1.061997</td>\n",
       "      <td>0</td>\n",
       "    </tr>\n",
       "    <tr>\n",
       "      <th>1</th>\n",
       "      <td>23</td>\n",
       "      <td>3.801635</td>\n",
       "      <td>-0.497846</td>\n",
       "      <td>-1.064850</td>\n",
       "      <td>2</td>\n",
       "    </tr>\n",
       "    <tr>\n",
       "      <th>2</th>\n",
       "      <td>25</td>\n",
       "      <td>0.203415</td>\n",
       "      <td>0.042734</td>\n",
       "      <td>-0.643168</td>\n",
       "      <td>0</td>\n",
       "    </tr>\n",
       "    <tr>\n",
       "      <th>3</th>\n",
       "      <td>27</td>\n",
       "      <td>0.142576</td>\n",
       "      <td>-0.551904</td>\n",
       "      <td>-1.112921</td>\n",
       "      <td>0</td>\n",
       "    </tr>\n",
       "    <tr>\n",
       "      <th>4</th>\n",
       "      <td>28</td>\n",
       "      <td>5.748499</td>\n",
       "      <td>-0.443788</td>\n",
       "      <td>-1.243908</td>\n",
       "      <td>2</td>\n",
       "    </tr>\n",
       "    <tr>\n",
       "      <th>...</th>\n",
       "      <td>...</td>\n",
       "      <td>...</td>\n",
       "      <td>...</td>\n",
       "      <td>...</td>\n",
       "      <td>...</td>\n",
       "    </tr>\n",
       "    <tr>\n",
       "      <th>1155</th>\n",
       "      <td>1609</td>\n",
       "      <td>-0.491893</td>\n",
       "      <td>-0.551904</td>\n",
       "      <td>-1.229504</td>\n",
       "      <td>0</td>\n",
       "    </tr>\n",
       "    <tr>\n",
       "      <th>1156</th>\n",
       "      <td>1619</td>\n",
       "      <td>-0.483202</td>\n",
       "      <td>-0.497846</td>\n",
       "      <td>-0.060787</td>\n",
       "      <td>0</td>\n",
       "    </tr>\n",
       "    <tr>\n",
       "      <th>1157</th>\n",
       "      <td>1621</td>\n",
       "      <td>-0.483202</td>\n",
       "      <td>-0.497846</td>\n",
       "      <td>0.524940</td>\n",
       "      <td>0</td>\n",
       "    </tr>\n",
       "    <tr>\n",
       "      <th>1158</th>\n",
       "      <td>1626</td>\n",
       "      <td>-0.491893</td>\n",
       "      <td>-0.551904</td>\n",
       "      <td>-1.229504</td>\n",
       "      <td>0</td>\n",
       "    </tr>\n",
       "    <tr>\n",
       "      <th>1159</th>\n",
       "      <td>1630</td>\n",
       "      <td>-0.483202</td>\n",
       "      <td>-0.497846</td>\n",
       "      <td>0.524940</td>\n",
       "      <td>0</td>\n",
       "    </tr>\n",
       "  </tbody>\n",
       "</table>\n",
       "<p>1160 rows × 5 columns</p>\n",
       "</div>"
      ],
      "text/plain": [
       "      customer_id  txn_freq  30d_plans  avg_recharges  necessity_cluster\n",
       "0              22 -0.326757  -0.551904      -1.061997                  0\n",
       "1              23  3.801635  -0.497846      -1.064850                  2\n",
       "2              25  0.203415   0.042734      -0.643168                  0\n",
       "3              27  0.142576  -0.551904      -1.112921                  0\n",
       "4              28  5.748499  -0.443788      -1.243908                  2\n",
       "...           ...       ...        ...            ...                ...\n",
       "1155         1609 -0.491893  -0.551904      -1.229504                  0\n",
       "1156         1619 -0.483202  -0.497846      -0.060787                  0\n",
       "1157         1621 -0.483202  -0.497846       0.524940                  0\n",
       "1158         1626 -0.491893  -0.551904      -1.229504                  0\n",
       "1159         1630 -0.483202  -0.497846       0.524940                  0\n",
       "\n",
       "[1160 rows x 5 columns]"
      ]
     },
     "execution_count": 89,
     "metadata": {},
     "output_type": "execute_result"
    }
   ],
   "source": [
    "features_df"
   ]
  },
  {
   "cell_type": "code",
   "execution_count": 90,
   "id": "a4f5731e-6636-4c5a-bb14-0819dc567859",
   "metadata": {},
   "outputs": [
    {
     "data": {
      "text/plain": [
       "array([0, 2, 1], dtype=int32)"
      ]
     },
     "execution_count": 90,
     "metadata": {},
     "output_type": "execute_result"
    }
   ],
   "source": [
    "features_df['necessity_cluster'].unique()"
   ]
  },
  {
   "cell_type": "code",
   "execution_count": 109,
   "id": "7c37e0cf-f89d-45c6-ad82-0e68d8538362",
   "metadata": {},
   "outputs": [
    {
     "data": {
      "text/html": [
       "<div>\n",
       "<style scoped>\n",
       "    .dataframe tbody tr th:only-of-type {\n",
       "        vertical-align: middle;\n",
       "    }\n",
       "\n",
       "    .dataframe tbody tr th {\n",
       "        vertical-align: top;\n",
       "    }\n",
       "\n",
       "    .dataframe thead th {\n",
       "        text-align: right;\n",
       "    }\n",
       "</style>\n",
       "<table border=\"1\" class=\"dataframe\">\n",
       "  <thead>\n",
       "    <tr style=\"text-align: right;\">\n",
       "      <th></th>\n",
       "      <th>customer_id</th>\n",
       "      <th>txn_freq</th>\n",
       "      <th>30d_plans</th>\n",
       "      <th>avg_recharges</th>\n",
       "      <th>necessity_cluster</th>\n",
       "    </tr>\n",
       "  </thead>\n",
       "  <tbody>\n",
       "    <tr>\n",
       "      <th>0</th>\n",
       "      <td>22</td>\n",
       "      <td>-0.326757</td>\n",
       "      <td>-0.551904</td>\n",
       "      <td>-1.061997</td>\n",
       "      <td>0</td>\n",
       "    </tr>\n",
       "    <tr>\n",
       "      <th>2</th>\n",
       "      <td>25</td>\n",
       "      <td>0.203415</td>\n",
       "      <td>0.042734</td>\n",
       "      <td>-0.643168</td>\n",
       "      <td>0</td>\n",
       "    </tr>\n",
       "    <tr>\n",
       "      <th>3</th>\n",
       "      <td>27</td>\n",
       "      <td>0.142576</td>\n",
       "      <td>-0.551904</td>\n",
       "      <td>-1.112921</td>\n",
       "      <td>0</td>\n",
       "    </tr>\n",
       "    <tr>\n",
       "      <th>5</th>\n",
       "      <td>31</td>\n",
       "      <td>0.064353</td>\n",
       "      <td>0.745488</td>\n",
       "      <td>0.499633</td>\n",
       "      <td>0</td>\n",
       "    </tr>\n",
       "    <tr>\n",
       "      <th>6</th>\n",
       "      <td>32</td>\n",
       "      <td>-0.274609</td>\n",
       "      <td>-0.335672</td>\n",
       "      <td>-0.577877</td>\n",
       "      <td>0</td>\n",
       "    </tr>\n",
       "    <tr>\n",
       "      <th>...</th>\n",
       "      <td>...</td>\n",
       "      <td>...</td>\n",
       "      <td>...</td>\n",
       "      <td>...</td>\n",
       "      <td>...</td>\n",
       "    </tr>\n",
       "    <tr>\n",
       "      <th>1155</th>\n",
       "      <td>1609</td>\n",
       "      <td>-0.491893</td>\n",
       "      <td>-0.551904</td>\n",
       "      <td>-1.229504</td>\n",
       "      <td>0</td>\n",
       "    </tr>\n",
       "    <tr>\n",
       "      <th>1156</th>\n",
       "      <td>1619</td>\n",
       "      <td>-0.483202</td>\n",
       "      <td>-0.497846</td>\n",
       "      <td>-0.060787</td>\n",
       "      <td>0</td>\n",
       "    </tr>\n",
       "    <tr>\n",
       "      <th>1157</th>\n",
       "      <td>1621</td>\n",
       "      <td>-0.483202</td>\n",
       "      <td>-0.497846</td>\n",
       "      <td>0.524940</td>\n",
       "      <td>0</td>\n",
       "    </tr>\n",
       "    <tr>\n",
       "      <th>1158</th>\n",
       "      <td>1626</td>\n",
       "      <td>-0.491893</td>\n",
       "      <td>-0.551904</td>\n",
       "      <td>-1.229504</td>\n",
       "      <td>0</td>\n",
       "    </tr>\n",
       "    <tr>\n",
       "      <th>1159</th>\n",
       "      <td>1630</td>\n",
       "      <td>-0.483202</td>\n",
       "      <td>-0.497846</td>\n",
       "      <td>0.524940</td>\n",
       "      <td>0</td>\n",
       "    </tr>\n",
       "  </tbody>\n",
       "</table>\n",
       "<p>1081 rows × 5 columns</p>\n",
       "</div>"
      ],
      "text/plain": [
       "      customer_id  txn_freq  30d_plans  avg_recharges  necessity_cluster\n",
       "0              22 -0.326757  -0.551904      -1.061997                  0\n",
       "2              25  0.203415   0.042734      -0.643168                  0\n",
       "3              27  0.142576  -0.551904      -1.112921                  0\n",
       "5              31  0.064353   0.745488       0.499633                  0\n",
       "6              32 -0.274609  -0.335672      -0.577877                  0\n",
       "...           ...       ...        ...            ...                ...\n",
       "1155         1609 -0.491893  -0.551904      -1.229504                  0\n",
       "1156         1619 -0.483202  -0.497846      -0.060787                  0\n",
       "1157         1621 -0.483202  -0.497846       0.524940                  0\n",
       "1158         1626 -0.491893  -0.551904      -1.229504                  0\n",
       "1159         1630 -0.483202  -0.497846       0.524940                  0\n",
       "\n",
       "[1081 rows x 5 columns]"
      ]
     },
     "execution_count": 109,
     "metadata": {},
     "output_type": "execute_result"
    }
   ],
   "source": [
    "features_df[features_df['necessity_cluster'] == 0]"
   ]
  },
  {
   "cell_type": "markdown",
   "id": "18f06e8d-01b6-4c1a-b1ad-d0151de5df15",
   "metadata": {},
   "source": [
    "#### Modeling Fiancial stability with Random Forest Classifier"
   ]
  },
  {
   "cell_type": "code",
   "execution_count": 107,
   "id": "e41eee44-cbcf-4025-90b7-a04415e26209",
   "metadata": {},
   "outputs": [
    {
     "data": {
      "text/html": [
       "<div>\n",
       "<style scoped>\n",
       "    .dataframe tbody tr th:only-of-type {\n",
       "        vertical-align: middle;\n",
       "    }\n",
       "\n",
       "    .dataframe tbody tr th {\n",
       "        vertical-align: top;\n",
       "    }\n",
       "\n",
       "    .dataframe thead th {\n",
       "        text-align: right;\n",
       "    }\n",
       "</style>\n",
       "<table border=\"1\" class=\"dataframe\">\n",
       "  <thead>\n",
       "    <tr style=\"text-align: right;\">\n",
       "      <th></th>\n",
       "      <th>customer_id</th>\n",
       "      <th>txn_freq</th>\n",
       "      <th>30d_plans</th>\n",
       "      <th>avg_recharges</th>\n",
       "      <th>necessity_cluster</th>\n",
       "    </tr>\n",
       "  </thead>\n",
       "  <tbody>\n",
       "    <tr>\n",
       "      <th>1098</th>\n",
       "      <td>1402</td>\n",
       "      <td>-0.47451</td>\n",
       "      <td>-0.443788</td>\n",
       "      <td>0.354331</td>\n",
       "      <td>0</td>\n",
       "    </tr>\n",
       "  </tbody>\n",
       "</table>\n",
       "</div>"
      ],
      "text/plain": [
       "      customer_id  txn_freq  30d_plans  avg_recharges  necessity_cluster\n",
       "1098         1402  -0.47451  -0.443788       0.354331                  0"
      ]
     },
     "execution_count": 107,
     "metadata": {},
     "output_type": "execute_result"
    }
   ],
   "source": [
    "features_df[features_df['customer_id'].isin([1402])]"
   ]
  }
 ],
 "metadata": {
  "kernelspec": {
   "display_name": "Python 3 (ipykernel)",
   "language": "python",
   "name": "python3"
  },
  "language_info": {
   "codemirror_mode": {
    "name": "ipython",
    "version": 3
   },
   "file_extension": ".py",
   "mimetype": "text/x-python",
   "name": "python",
   "nbconvert_exporter": "python",
   "pygments_lexer": "ipython3",
   "version": "3.10.14"
  }
 },
 "nbformat": 4,
 "nbformat_minor": 5
}
